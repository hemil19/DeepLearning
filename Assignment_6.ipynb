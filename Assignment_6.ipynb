{
  "nbformat": 4,
  "nbformat_minor": 0,
  "metadata": {
    "colab": {
      "name": "Assignment-6.ipynb",
      "provenance": [],
      "authorship_tag": "ABX9TyOuwZ5fKymjOshxpgfenmCi",
      "include_colab_link": true
    },
    "kernelspec": {
      "name": "python3",
      "display_name": "Python 3"
    },
    "accelerator": "GPU"
  },
  "cells": [
    {
      "cell_type": "markdown",
      "metadata": {
        "id": "view-in-github",
        "colab_type": "text"
      },
      "source": [
        "<a href=\"https://colab.research.google.com/github/hemil19/DeepLearning/blob/master/Assignment_6.ipynb\" target=\"_parent\"><img src=\"https://colab.research.google.com/assets/colab-badge.svg\" alt=\"Open In Colab\"/></a>"
      ]
    },
    {
      "cell_type": "code",
      "metadata": {
        "id": "Qyfp5ANbr_uW",
        "colab_type": "code",
        "colab": {
          "base_uri": "https://localhost:8080/",
          "height": 119
        },
        "outputId": "beea4dbb-2731-4b6b-d36f-719e5e58c216"
      },
      "source": [
        "import tensorflow as tf\n",
        "from keras.datasets import cifar100\n",
        "\n",
        "(X_train,y_train),(X_test,y_test)=cifar100.load_data()\n",
        "print(X_train.shape)\n",
        "print(y_train.shape)\n",
        "print(X_test.shape)\n",
        "print(y_test.shape)\n",
        "\n",
        "# Normalize pixel values between 0 and 1\n",
        "X_train,X_test=X_train/255.0,X_test/255.0"
      ],
      "execution_count": 1,
      "outputs": [
        {
          "output_type": "stream",
          "text": [
            "Downloading data from https://www.cs.toronto.edu/~kriz/cifar-100-python.tar.gz\n",
            "169009152/169001437 [==============================] - 4s 0us/step\n",
            "(50000, 32, 32, 3)\n",
            "(50000, 1)\n",
            "(10000, 32, 32, 3)\n",
            "(10000, 1)\n"
          ],
          "name": "stdout"
        }
      ]
    },
    {
      "cell_type": "code",
      "metadata": {
        "id": "wITTInNdsPhl",
        "colab_type": "code",
        "colab": {
          "base_uri": "https://localhost:8080/",
          "height": 561
        },
        "outputId": "afc56451-885b-44a0-9806-3fa464c4de9d"
      },
      "source": [
        "from keras.models import Sequential\n",
        "from keras.layers import Dense\n",
        "\n",
        "\n",
        "model=tf.keras.models.Sequential([\n",
        "tf.keras.layers.Conv2D(32,(3,3),activation='relu',input_shape=(32,32,3)),\n",
        "tf.keras.layers.MaxPooling2D((2, 2)),\n",
        "tf.keras.layers.BatchNormalization(),\n",
        "tf.keras.layers.Dropout(0.5),\n",
        "tf.keras.layers.Conv2D(64,(3,3),activation='relu'),\n",
        "tf.keras.layers.MaxPooling2D((2, 2)),\n",
        "tf.keras.layers.BatchNormalization(),\n",
        "tf.keras.layers.Dropout(0.5),\n",
        "tf.keras.layers.Conv2D(64,(3,3),activation='relu'),\n",
        "tf.keras.layers.Flatten(),\n",
        "tf.keras.layers.Dense(128,activation='softmax'),\n",
        "tf.keras.layers.Dense(100)\n",
        "])\n",
        "\n",
        "model.summary()"
      ],
      "execution_count": 2,
      "outputs": [
        {
          "output_type": "stream",
          "text": [
            "Model: \"sequential\"\n",
            "_________________________________________________________________\n",
            "Layer (type)                 Output Shape              Param #   \n",
            "=================================================================\n",
            "conv2d (Conv2D)              (None, 30, 30, 32)        896       \n",
            "_________________________________________________________________\n",
            "max_pooling2d (MaxPooling2D) (None, 15, 15, 32)        0         \n",
            "_________________________________________________________________\n",
            "batch_normalization (BatchNo (None, 15, 15, 32)        128       \n",
            "_________________________________________________________________\n",
            "dropout (Dropout)            (None, 15, 15, 32)        0         \n",
            "_________________________________________________________________\n",
            "conv2d_1 (Conv2D)            (None, 13, 13, 64)        18496     \n",
            "_________________________________________________________________\n",
            "max_pooling2d_1 (MaxPooling2 (None, 6, 6, 64)          0         \n",
            "_________________________________________________________________\n",
            "batch_normalization_1 (Batch (None, 6, 6, 64)          256       \n",
            "_________________________________________________________________\n",
            "dropout_1 (Dropout)          (None, 6, 6, 64)          0         \n",
            "_________________________________________________________________\n",
            "conv2d_2 (Conv2D)            (None, 4, 4, 64)          36928     \n",
            "_________________________________________________________________\n",
            "flatten (Flatten)            (None, 1024)              0         \n",
            "_________________________________________________________________\n",
            "dense (Dense)                (None, 128)               131200    \n",
            "_________________________________________________________________\n",
            "dense_1 (Dense)              (None, 100)               12900     \n",
            "=================================================================\n",
            "Total params: 200,804\n",
            "Trainable params: 200,612\n",
            "Non-trainable params: 192\n",
            "_________________________________________________________________\n"
          ],
          "name": "stdout"
        }
      ]
    },
    {
      "cell_type": "code",
      "metadata": {
        "id": "SSYm6kgPsaO5",
        "colab_type": "code",
        "colab": {
          "base_uri": "https://localhost:8080/",
          "height": 1000
        },
        "outputId": "c9d6b308-3005-404b-daa4-01a2149afad6"
      },
      "source": [
        "model.compile(optimizer='adam',loss=tf.keras.losses.SparseCategoricalCrossentropy(from_logits=True),metrics=['accuracy'])\n",
        "history=model.fit(X_train,y_train,epochs=30,validation_data=(X_test,y_test))"
      ],
      "execution_count": 3,
      "outputs": [
        {
          "output_type": "stream",
          "text": [
            "Epoch 1/30\n",
            "1563/1563 [==============================] - 6s 4ms/step - loss: 4.4853 - accuracy: 0.0369 - val_loss: 4.4268 - val_accuracy: 0.0404\n",
            "Epoch 2/30\n",
            "1563/1563 [==============================] - 6s 4ms/step - loss: 4.3618 - accuracy: 0.0423 - val_loss: 4.3465 - val_accuracy: 0.0424\n",
            "Epoch 3/30\n",
            "1563/1563 [==============================] - 6s 4ms/step - loss: 4.2959 - accuracy: 0.0448 - val_loss: 4.2462 - val_accuracy: 0.0460\n",
            "Epoch 4/30\n",
            "1563/1563 [==============================] - 6s 4ms/step - loss: 4.2718 - accuracy: 0.0440 - val_loss: 4.2797 - val_accuracy: 0.0439\n",
            "Epoch 5/30\n",
            "1563/1563 [==============================] - 5s 3ms/step - loss: 4.2583 - accuracy: 0.0432 - val_loss: 4.2902 - val_accuracy: 0.0386\n",
            "Epoch 6/30\n",
            "1563/1563 [==============================] - 5s 4ms/step - loss: 4.2572 - accuracy: 0.0436 - val_loss: 4.2164 - val_accuracy: 0.0456\n",
            "Epoch 7/30\n",
            "1563/1563 [==============================] - 6s 4ms/step - loss: 4.2359 - accuracy: 0.0441 - val_loss: 4.2121 - val_accuracy: 0.0464\n",
            "Epoch 8/30\n",
            "1563/1563 [==============================] - 5s 3ms/step - loss: 4.2279 - accuracy: 0.0459 - val_loss: 4.2033 - val_accuracy: 0.0458\n",
            "Epoch 9/30\n",
            "1563/1563 [==============================] - 5s 3ms/step - loss: 4.2128 - accuracy: 0.0460 - val_loss: 4.2384 - val_accuracy: 0.0448\n",
            "Epoch 10/30\n",
            "1563/1563 [==============================] - 6s 4ms/step - loss: 4.2265 - accuracy: 0.0449 - val_loss: 4.2271 - val_accuracy: 0.0491\n",
            "Epoch 11/30\n",
            "1563/1563 [==============================] - 5s 4ms/step - loss: 4.2167 - accuracy: 0.0444 - val_loss: 4.2322 - val_accuracy: 0.0445\n",
            "Epoch 12/30\n",
            "1563/1563 [==============================] - 5s 3ms/step - loss: 4.2232 - accuracy: 0.0444 - val_loss: 4.2207 - val_accuracy: 0.0459\n",
            "Epoch 13/30\n",
            "1563/1563 [==============================] - 6s 4ms/step - loss: 4.2064 - accuracy: 0.0461 - val_loss: 4.1814 - val_accuracy: 0.0489\n",
            "Epoch 14/30\n",
            "1563/1563 [==============================] - 6s 4ms/step - loss: 4.1973 - accuracy: 0.0479 - val_loss: 4.2021 - val_accuracy: 0.0486\n",
            "Epoch 15/30\n",
            "1563/1563 [==============================] - 5s 3ms/step - loss: 4.2014 - accuracy: 0.0466 - val_loss: 4.1690 - val_accuracy: 0.0487\n",
            "Epoch 16/30\n",
            "1563/1563 [==============================] - 5s 3ms/step - loss: 4.1895 - accuracy: 0.0482 - val_loss: 4.1870 - val_accuracy: 0.0471\n",
            "Epoch 17/30\n",
            "1563/1563 [==============================] - 6s 4ms/step - loss: 4.1827 - accuracy: 0.0490 - val_loss: 4.1818 - val_accuracy: 0.0472\n",
            "Epoch 18/30\n",
            "1563/1563 [==============================] - 5s 3ms/step - loss: 4.1796 - accuracy: 0.0488 - val_loss: 4.1563 - val_accuracy: 0.0521\n",
            "Epoch 19/30\n",
            "1563/1563 [==============================] - 5s 3ms/step - loss: 4.1790 - accuracy: 0.0490 - val_loss: 4.2177 - val_accuracy: 0.0489\n",
            "Epoch 20/30\n",
            "1563/1563 [==============================] - 5s 3ms/step - loss: 4.1721 - accuracy: 0.0496 - val_loss: 4.1499 - val_accuracy: 0.0505\n",
            "Epoch 21/30\n",
            "1563/1563 [==============================] - 6s 4ms/step - loss: 4.1851 - accuracy: 0.0487 - val_loss: 4.2144 - val_accuracy: 0.0479\n",
            "Epoch 22/30\n",
            "1563/1563 [==============================] - 6s 4ms/step - loss: 4.1692 - accuracy: 0.0511 - val_loss: 4.1457 - val_accuracy: 0.0513\n",
            "Epoch 23/30\n",
            "1563/1563 [==============================] - 6s 4ms/step - loss: 4.1709 - accuracy: 0.0512 - val_loss: 4.1927 - val_accuracy: 0.0486\n",
            "Epoch 24/30\n",
            "1563/1563 [==============================] - 6s 4ms/step - loss: 4.1861 - accuracy: 0.0494 - val_loss: 4.3028 - val_accuracy: 0.0445\n",
            "Epoch 25/30\n",
            "1563/1563 [==============================] - 6s 4ms/step - loss: 4.1796 - accuracy: 0.0494 - val_loss: 4.2398 - val_accuracy: 0.0472\n",
            "Epoch 26/30\n",
            "1563/1563 [==============================] - 6s 4ms/step - loss: 4.1661 - accuracy: 0.0502 - val_loss: 4.1354 - val_accuracy: 0.0512\n",
            "Epoch 27/30\n",
            "1563/1563 [==============================] - 6s 4ms/step - loss: 4.1612 - accuracy: 0.0497 - val_loss: 4.1861 - val_accuracy: 0.0495\n",
            "Epoch 28/30\n",
            "1563/1563 [==============================] - 6s 4ms/step - loss: 4.1794 - accuracy: 0.0493 - val_loss: 4.3856 - val_accuracy: 0.0408\n",
            "Epoch 29/30\n",
            "1563/1563 [==============================] - 6s 4ms/step - loss: 4.1846 - accuracy: 0.0496 - val_loss: 4.2600 - val_accuracy: 0.0450\n",
            "Epoch 30/30\n",
            "1563/1563 [==============================] - 6s 4ms/step - loss: 4.1849 - accuracy: 0.0491 - val_loss: 4.2059 - val_accuracy: 0.0483\n"
          ],
          "name": "stdout"
        }
      ]
    },
    {
      "cell_type": "code",
      "metadata": {
        "id": "wq09aGCzserC",
        "colab_type": "code",
        "colab": {
          "base_uri": "https://localhost:8080/",
          "height": 545
        },
        "outputId": "57173e1d-8353-4e41-c405-0e5e300ebead"
      },
      "source": [
        "import matplotlib.pyplot as plt\n",
        "acc = history.history['accuracy']\n",
        "val_acc = history.history['val_accuracy']\n",
        "loss = history.history['loss']\n",
        "val_loss = history.history['val_loss']\n",
        "\n",
        "epochs = range(len(acc))\n",
        "\n",
        "plt.plot(epochs, acc, 'bo', label='Training accuracy')\n",
        "plt.plot(epochs, val_acc, 'b', label='Validation accuracy')\n",
        "plt.title('Training and validation accuracy')\n",
        "plt.legend()\n",
        "\n",
        "plt.figure()\n",
        "\n",
        "plt.plot(epochs, loss, 'bo', label='Training Loss')\n",
        "plt.plot(epochs, val_loss, 'b', label='Validation Loss')\n",
        "plt.title('Training and validation loss')\n",
        "plt.legend()\n",
        "\n",
        "plt.show()"
      ],
      "execution_count": 4,
      "outputs": [
        {
          "output_type": "display_data",
          "data": {
            "image/png": "[encoded data removed]",
            "text/plain": [
              "<Figure size 432x288 with 1 Axes>"
            ]
          },
          "metadata": {
            "tags": [],
            "needs_background": "light"
          }
        },
        {
          "output_type": "display_data",
          "data": {
            "image/png": "[encoded data removed]",
            "text/plain": [
              "<Figure size 432x288 with 1 Axes>"
            ]
          },
          "metadata": {
            "tags": [],
            "needs_background": "light"
          }
        }
      ]
    },
    {
      "cell_type": "markdown",
      "metadata": {
        "id": "shn_9RoDtiHW",
        "colab_type": "text"
      },
      "source": [
        "# Hyperparameter Tuning"
      ]
    },
    {
      "cell_type": "code",
      "metadata": {
        "id": "Q_u03lBHtf6C",
        "colab_type": "code",
        "colab": {
          "base_uri": "https://localhost:8080/",
          "height": 1000
        },
        "outputId": "38b2e3dd-a75e-4aa7-954d-169888371b33"
      },
      "source": [
        "from keras.models import Sequential                         \n",
        "from keras.layers import Dense, Dropout, Activation, Flatten,Conv2D,MaxPooling2D\n",
        "from keras.utils import to_categorical\n",
        "from keras.callbacks import ModelCheckpoint, EarlyStopping\n",
        "from keras.optimizers import SGD, Adam, RMSprop\n",
        "\n",
        "model_sgd = Sequential()\n",
        "model_sgd.add(Conv2D(32,(3,3),activation='relu',kernel_initializer='he_uniform',padding='same',input_shape=(32,32,3)))\n",
        "model_sgd.add(Conv2D(32,(3,3),activation='relu',kernel_initializer='he_uniform',padding='same'))\n",
        "model_sgd.add(MaxPooling2D((2,2)))\n",
        "model_sgd.add(Dropout(0.1))\n",
        "model_sgd.add(Conv2D(64,(3,3),activation='relu',kernel_initializer='he_uniform',padding='same'))\n",
        "model_sgd.add(Conv2D(64,(3,3),activation='relu',kernel_initializer='he_uniform',padding='same'))\n",
        "model_sgd.add(MaxPooling2D((2,2)))\n",
        "model_sgd.add(Dropout(0.1))\n",
        "model_sgd.add(Conv2D(128,(3,3),activation='relu',kernel_initializer='he_uniform',padding='same'))\n",
        "model_sgd.add(Conv2D(128,(3,3),activation='relu',kernel_initializer='he_uniform',padding='same'))\n",
        "model_sgd.add(MaxPooling2D((2,2)))\n",
        "model_sgd.add(Dropout(0.1))\n",
        "model_sgd.add(Flatten())\n",
        "model_sgd.add(Dense(128,activation='relu',kernel_initializer='he_uniform'))\n",
        "model_sgd.add(Dropout(0.1))\n",
        "model_sgd.add(Dense(100,activation='softmax'))\n",
        "\n",
        "\n",
        "opt = SGD(lr=0.001, momentum=0.9)\n",
        "#model_sgd.compile(optimizer=opt, loss='categorical_crossentropy', metrics=['accuracy'])\n",
        "#initial_learning_rate=0.01\n",
        "#lr_schedule=tf.keras.optimizers.schedules.ExponentialDecay(initial_learning_rate,decay_steps=100000,decay_rate=0.96,staircase=True)\n",
        "#tf.keras.optimizers.SGD(learning_rate=lr_schedule)\n",
        "model_sgd.compile(optimizer=opt,loss=tf.keras.losses.SparseCategoricalCrossentropy(from_logits=True),metrics=['accuracy'])\n",
        "\n",
        "history_sgd=model_sgd.fit(X_train,y_train,epochs=100,batch_size=64,validation_data=(X_test,y_test),verbose=1)"
      ],
      "execution_count": 5,
      "outputs": [
        {
          "output_type": "stream",
          "text": [
            "Epoch 1/100\n",
            "782/782 [==============================] - 6s 8ms/step - loss: 4.6030 - accuracy: 0.0101 - val_loss: 4.6028 - val_accuracy: 0.0100\n",
            "Epoch 2/100\n",
            "782/782 [==============================] - 6s 7ms/step - loss: 4.6022 - accuracy: 0.0108 - val_loss: 4.6018 - val_accuracy: 0.0114\n",
            "Epoch 3/100\n",
            "782/782 [==============================] - 6s 7ms/step - loss: 4.6014 - accuracy: 0.0145 - val_loss: 4.6004 - val_accuracy: 0.0167\n",
            "Epoch 4/100\n",
            "782/782 [==============================] - 6s 7ms/step - loss: 4.5996 - accuracy: 0.0188 - val_loss: 4.5971 - val_accuracy: 0.0235\n",
            "Epoch 5/100\n",
            "782/782 [==============================] - 6s 7ms/step - loss: 4.5955 - accuracy: 0.0256 - val_loss: 4.5905 - val_accuracy: 0.0314\n",
            "Epoch 6/100\n",
            "782/782 [==============================] - 6s 7ms/step - loss: 4.5902 - accuracy: 0.0300 - val_loss: 4.5877 - val_accuracy: 0.0309\n",
            "Epoch 7/100\n",
            "782/782 [==============================] - 6s 7ms/step - loss: 4.5871 - accuracy: 0.0322 - val_loss: 4.5839 - val_accuracy: 0.0354\n",
            "Epoch 8/100\n",
            "782/782 [==============================] - 6s 7ms/step - loss: 4.5816 - accuracy: 0.0402 - val_loss: 4.5760 - val_accuracy: 0.0459\n",
            "Epoch 9/100\n",
            "782/782 [==============================] - 6s 7ms/step - loss: 4.5771 - accuracy: 0.0443 - val_loss: 4.5708 - val_accuracy: 0.0511\n",
            "Epoch 10/100\n",
            "782/782 [==============================] - 6s 7ms/step - loss: 4.5727 - accuracy: 0.0491 - val_loss: 4.5667 - val_accuracy: 0.0540\n",
            "Epoch 11/100\n",
            "782/782 [==============================] - 6s 7ms/step - loss: 4.5698 - accuracy: 0.0519 - val_loss: 4.5656 - val_accuracy: 0.0554\n",
            "Epoch 12/100\n",
            "782/782 [==============================] - 6s 7ms/step - loss: 4.5681 - accuracy: 0.0537 - val_loss: 4.5645 - val_accuracy: 0.0569\n",
            "Epoch 13/100\n",
            "782/782 [==============================] - 6s 7ms/step - loss: 4.5664 - accuracy: 0.0551 - val_loss: 4.5618 - val_accuracy: 0.0613\n",
            "Epoch 14/100\n",
            "782/782 [==============================] - 6s 7ms/step - loss: 4.5639 - accuracy: 0.0579 - val_loss: 4.5612 - val_accuracy: 0.0609\n",
            "Epoch 15/100\n",
            "782/782 [==============================] - 6s 7ms/step - loss: 4.5626 - accuracy: 0.0594 - val_loss: 4.5606 - val_accuracy: 0.0623\n",
            "Epoch 16/100\n",
            "782/782 [==============================] - 6s 7ms/step - loss: 4.5613 - accuracy: 0.0607 - val_loss: 4.5592 - val_accuracy: 0.0618\n",
            "Epoch 17/100\n",
            "782/782 [==============================] - 6s 7ms/step - loss: 4.5605 - accuracy: 0.0610 - val_loss: 4.5562 - val_accuracy: 0.0662\n",
            "Epoch 18/100\n",
            "782/782 [==============================] - 6s 7ms/step - loss: 4.5573 - accuracy: 0.0648 - val_loss: 4.5558 - val_accuracy: 0.0659\n",
            "Epoch 19/100\n",
            "782/782 [==============================] - 6s 7ms/step - loss: 4.5560 - accuracy: 0.0658 - val_loss: 4.5536 - val_accuracy: 0.0685\n",
            "Epoch 20/100\n",
            "782/782 [==============================] - 6s 7ms/step - loss: 4.5537 - accuracy: 0.0685 - val_loss: 4.5522 - val_accuracy: 0.0704\n",
            "Epoch 21/100\n",
            "782/782 [==============================] - 6s 7ms/step - loss: 4.5521 - accuracy: 0.0696 - val_loss: 4.5507 - val_accuracy: 0.0727\n",
            "Epoch 22/100\n",
            "782/782 [==============================] - 6s 7ms/step - loss: 4.5515 - accuracy: 0.0701 - val_loss: 4.5529 - val_accuracy: 0.0694\n",
            "Epoch 23/100\n",
            "782/782 [==============================] - 6s 7ms/step - loss: 4.5499 - accuracy: 0.0725 - val_loss: 4.5502 - val_accuracy: 0.0712\n",
            "Epoch 24/100\n",
            "782/782 [==============================] - 6s 7ms/step - loss: 4.5483 - accuracy: 0.0740 - val_loss: 4.5486 - val_accuracy: 0.0746\n",
            "Epoch 25/100\n",
            "782/782 [==============================] - 6s 7ms/step - loss: 4.5475 - accuracy: 0.0748 - val_loss: 4.5481 - val_accuracy: 0.0744\n",
            "Epoch 26/100\n",
            "782/782 [==============================] - 6s 7ms/step - loss: 4.5462 - accuracy: 0.0763 - val_loss: 4.5458 - val_accuracy: 0.0767\n",
            "Epoch 27/100\n",
            "782/782 [==============================] - 6s 7ms/step - loss: 4.5446 - accuracy: 0.0783 - val_loss: 4.5442 - val_accuracy: 0.0786\n",
            "Epoch 28/100\n",
            "782/782 [==============================] - 6s 8ms/step - loss: 4.5442 - accuracy: 0.0777 - val_loss: 4.5432 - val_accuracy: 0.0791\n",
            "Epoch 29/100\n",
            "782/782 [==============================] - 6s 7ms/step - loss: 4.5432 - accuracy: 0.0789 - val_loss: 4.5434 - val_accuracy: 0.0793\n",
            "Epoch 30/100\n",
            "782/782 [==============================] - 6s 7ms/step - loss: 4.5424 - accuracy: 0.0802 - val_loss: 4.5423 - val_accuracy: 0.0809\n",
            "Epoch 31/100\n",
            "782/782 [==============================] - 6s 7ms/step - loss: 4.5416 - accuracy: 0.0812 - val_loss: 4.5394 - val_accuracy: 0.0839\n",
            "Epoch 32/100\n",
            "782/782 [==============================] - 6s 7ms/step - loss: 4.5403 - accuracy: 0.0821 - val_loss: 4.5392 - val_accuracy: 0.0828\n",
            "Epoch 33/100\n",
            "782/782 [==============================] - 6s 7ms/step - loss: 4.5389 - accuracy: 0.0837 - val_loss: 4.5386 - val_accuracy: 0.0840\n",
            "Epoch 34/100\n",
            "782/782 [==============================] - 6s 7ms/step - loss: 4.5385 - accuracy: 0.0839 - val_loss: 4.5384 - val_accuracy: 0.0851\n",
            "Epoch 35/100\n",
            "782/782 [==============================] - 6s 7ms/step - loss: 4.5371 - accuracy: 0.0856 - val_loss: 4.5361 - val_accuracy: 0.0871\n",
            "Epoch 36/100\n",
            "782/782 [==============================] - 6s 7ms/step - loss: 4.5371 - accuracy: 0.0850 - val_loss: 4.5380 - val_accuracy: 0.0831\n",
            "Epoch 37/100\n",
            "782/782 [==============================] - 6s 7ms/step - loss: 4.5365 - accuracy: 0.0856 - val_loss: 4.5365 - val_accuracy: 0.0873\n",
            "Epoch 38/100\n",
            "782/782 [==============================] - 6s 7ms/step - loss: 4.5358 - accuracy: 0.0865 - val_loss: 4.5353 - val_accuracy: 0.0871\n",
            "Epoch 39/100\n",
            "782/782 [==============================] - 6s 7ms/step - loss: 4.5351 - accuracy: 0.0876 - val_loss: 4.5344 - val_accuracy: 0.0876\n",
            "Epoch 40/100\n",
            "782/782 [==============================] - 6s 7ms/step - loss: 4.5341 - accuracy: 0.0887 - val_loss: 4.5373 - val_accuracy: 0.0856\n",
            "Epoch 41/100\n",
            "782/782 [==============================] - 6s 7ms/step - loss: 4.5330 - accuracy: 0.0892 - val_loss: 4.5335 - val_accuracy: 0.0889\n",
            "Epoch 42/100\n",
            "782/782 [==============================] - 6s 8ms/step - loss: 4.5338 - accuracy: 0.0882 - val_loss: 4.5316 - val_accuracy: 0.0913\n",
            "Epoch 43/100\n",
            "782/782 [==============================] - 6s 7ms/step - loss: 4.5325 - accuracy: 0.0897 - val_loss: 4.5330 - val_accuracy: 0.0889\n",
            "Epoch 44/100\n",
            "782/782 [==============================] - 6s 7ms/step - loss: 4.5323 - accuracy: 0.0901 - val_loss: 4.5335 - val_accuracy: 0.0889\n",
            "Epoch 45/100\n",
            "782/782 [==============================] - 6s 7ms/step - loss: 4.5313 - accuracy: 0.0912 - val_loss: 4.5363 - val_accuracy: 0.0862\n",
            "Epoch 46/100\n",
            "782/782 [==============================] - 6s 7ms/step - loss: 4.5308 - accuracy: 0.0918 - val_loss: 4.5308 - val_accuracy: 0.0912\n",
            "Epoch 47/100\n",
            "782/782 [==============================] - 6s 8ms/step - loss: 4.5293 - accuracy: 0.0933 - val_loss: 4.5312 - val_accuracy: 0.0908\n",
            "Epoch 48/100\n",
            "782/782 [==============================] - 6s 8ms/step - loss: 4.5296 - accuracy: 0.0922 - val_loss: 4.5340 - val_accuracy: 0.0874\n",
            "Epoch 49/100\n",
            "782/782 [==============================] - 6s 7ms/step - loss: 4.5284 - accuracy: 0.0940 - val_loss: 4.5285 - val_accuracy: 0.0938\n",
            "Epoch 50/100\n",
            "782/782 [==============================] - 6s 8ms/step - loss: 4.5280 - accuracy: 0.0943 - val_loss: 4.5302 - val_accuracy: 0.0923\n",
            "Epoch 51/100\n",
            "782/782 [==============================] - 6s 7ms/step - loss: 4.5267 - accuracy: 0.0957 - val_loss: 4.5286 - val_accuracy: 0.0940\n",
            "Epoch 52/100\n",
            "782/782 [==============================] - 6s 7ms/step - loss: 4.5266 - accuracy: 0.0954 - val_loss: 4.5294 - val_accuracy: 0.0928\n",
            "Epoch 53/100\n",
            "782/782 [==============================] - 6s 7ms/step - loss: 4.5265 - accuracy: 0.0961 - val_loss: 4.5291 - val_accuracy: 0.0935\n",
            "Epoch 54/100\n",
            "782/782 [==============================] - 6s 7ms/step - loss: 4.5252 - accuracy: 0.0978 - val_loss: 4.5287 - val_accuracy: 0.0942\n",
            "Epoch 55/100\n",
            "782/782 [==============================] - 6s 8ms/step - loss: 4.5250 - accuracy: 0.0970 - val_loss: 4.5285 - val_accuracy: 0.0938\n",
            "Epoch 56/100\n",
            "782/782 [==============================] - 6s 7ms/step - loss: 4.5239 - accuracy: 0.0983 - val_loss: 4.5266 - val_accuracy: 0.0949\n",
            "Epoch 57/100\n",
            "782/782 [==============================] - 6s 7ms/step - loss: 4.5246 - accuracy: 0.0976 - val_loss: 4.5266 - val_accuracy: 0.0956\n",
            "Epoch 58/100\n",
            "782/782 [==============================] - 6s 7ms/step - loss: 4.5230 - accuracy: 0.0997 - val_loss: 4.5283 - val_accuracy: 0.0942\n",
            "Epoch 59/100\n",
            "782/782 [==============================] - 6s 7ms/step - loss: 4.5221 - accuracy: 0.1002 - val_loss: 4.5234 - val_accuracy: 0.0986\n",
            "Epoch 60/100\n",
            "782/782 [==============================] - 6s 8ms/step - loss: 4.5217 - accuracy: 0.1009 - val_loss: 4.5231 - val_accuracy: 0.0991\n",
            "Epoch 61/100\n",
            "782/782 [==============================] - 6s 7ms/step - loss: 4.5214 - accuracy: 0.1015 - val_loss: 4.5261 - val_accuracy: 0.0960\n",
            "Epoch 62/100\n",
            "782/782 [==============================] - 6s 8ms/step - loss: 4.5207 - accuracy: 0.1014 - val_loss: 4.5229 - val_accuracy: 0.0995\n",
            "Epoch 63/100\n",
            "782/782 [==============================] - 6s 7ms/step - loss: 4.5198 - accuracy: 0.1026 - val_loss: 4.5226 - val_accuracy: 0.1001\n",
            "Epoch 64/100\n",
            "782/782 [==============================] - 6s 7ms/step - loss: 4.5188 - accuracy: 0.1033 - val_loss: 4.5240 - val_accuracy: 0.0984\n",
            "Epoch 65/100\n",
            "782/782 [==============================] - 6s 7ms/step - loss: 4.5186 - accuracy: 0.1039 - val_loss: 4.5205 - val_accuracy: 0.1027\n",
            "Epoch 66/100\n",
            "782/782 [==============================] - 6s 7ms/step - loss: 4.5180 - accuracy: 0.1046 - val_loss: 4.5194 - val_accuracy: 0.1032\n",
            "Epoch 67/100\n",
            "782/782 [==============================] - 6s 7ms/step - loss: 4.5174 - accuracy: 0.1053 - val_loss: 4.5238 - val_accuracy: 0.0980\n",
            "Epoch 68/100\n",
            "782/782 [==============================] - 6s 7ms/step - loss: 4.5182 - accuracy: 0.1046 - val_loss: 4.5196 - val_accuracy: 0.1033\n",
            "Epoch 69/100\n",
            "782/782 [==============================] - 6s 7ms/step - loss: 4.5161 - accuracy: 0.1067 - val_loss: 4.5168 - val_accuracy: 0.1065\n",
            "Epoch 70/100\n",
            "782/782 [==============================] - 6s 7ms/step - loss: 4.5152 - accuracy: 0.1076 - val_loss: 4.5199 - val_accuracy: 0.1028\n",
            "Epoch 71/100\n",
            "782/782 [==============================] - 6s 7ms/step - loss: 4.5152 - accuracy: 0.1073 - val_loss: 4.5209 - val_accuracy: 0.1004\n",
            "Epoch 72/100\n",
            "782/782 [==============================] - 6s 7ms/step - loss: 4.5142 - accuracy: 0.1081 - val_loss: 4.5185 - val_accuracy: 0.1039\n",
            "Epoch 73/100\n",
            "782/782 [==============================] - 6s 7ms/step - loss: 4.5130 - accuracy: 0.1096 - val_loss: 4.5179 - val_accuracy: 0.1045\n",
            "Epoch 74/100\n",
            "782/782 [==============================] - 6s 7ms/step - loss: 4.5133 - accuracy: 0.1096 - val_loss: 4.5170 - val_accuracy: 0.1061\n",
            "Epoch 75/100\n",
            "782/782 [==============================] - 6s 7ms/step - loss: 4.5127 - accuracy: 0.1097 - val_loss: 4.5158 - val_accuracy: 0.1060\n",
            "Epoch 76/100\n",
            "782/782 [==============================] - 6s 7ms/step - loss: 4.5119 - accuracy: 0.1112 - val_loss: 4.5143 - val_accuracy: 0.1083\n",
            "Epoch 77/100\n",
            "782/782 [==============================] - 6s 7ms/step - loss: 4.5105 - accuracy: 0.1122 - val_loss: 4.5148 - val_accuracy: 0.1065\n",
            "Epoch 78/100\n",
            "782/782 [==============================] - 6s 7ms/step - loss: 4.5099 - accuracy: 0.1126 - val_loss: 4.5106 - val_accuracy: 0.1118\n",
            "Epoch 79/100\n",
            "782/782 [==============================] - 6s 7ms/step - loss: 4.5082 - accuracy: 0.1144 - val_loss: 4.5123 - val_accuracy: 0.1104\n",
            "Epoch 80/100\n",
            "782/782 [==============================] - 6s 7ms/step - loss: 4.5082 - accuracy: 0.1145 - val_loss: 4.5097 - val_accuracy: 0.1122\n",
            "Epoch 81/100\n",
            "782/782 [==============================] - 6s 7ms/step - loss: 4.5073 - accuracy: 0.1153 - val_loss: 4.5103 - val_accuracy: 0.1123\n",
            "Epoch 82/100\n",
            "782/782 [==============================] - 6s 7ms/step - loss: 4.5055 - accuracy: 0.1172 - val_loss: 4.5087 - val_accuracy: 0.1145\n",
            "Epoch 83/100\n",
            "782/782 [==============================] - 6s 7ms/step - loss: 4.5057 - accuracy: 0.1170 - val_loss: 4.5108 - val_accuracy: 0.1114\n",
            "Epoch 84/100\n",
            "782/782 [==============================] - 6s 7ms/step - loss: 4.5035 - accuracy: 0.1195 - val_loss: 4.5088 - val_accuracy: 0.1133\n",
            "Epoch 85/100\n",
            "782/782 [==============================] - 6s 7ms/step - loss: 4.5047 - accuracy: 0.1183 - val_loss: 4.5070 - val_accuracy: 0.1154\n",
            "Epoch 86/100\n",
            "782/782 [==============================] - 6s 7ms/step - loss: 4.5030 - accuracy: 0.1194 - val_loss: 4.5079 - val_accuracy: 0.1152\n",
            "Epoch 87/100\n",
            "782/782 [==============================] - 6s 7ms/step - loss: 4.5018 - accuracy: 0.1211 - val_loss: 4.5075 - val_accuracy: 0.1147\n",
            "Epoch 88/100\n",
            "782/782 [==============================] - 6s 7ms/step - loss: 4.5019 - accuracy: 0.1209 - val_loss: 4.5063 - val_accuracy: 0.1174\n",
            "Epoch 89/100\n",
            "782/782 [==============================] - 6s 7ms/step - loss: 4.5019 - accuracy: 0.1204 - val_loss: 4.5066 - val_accuracy: 0.1162\n",
            "Epoch 90/100\n",
            "782/782 [==============================] - 6s 7ms/step - loss: 4.5004 - accuracy: 0.1226 - val_loss: 4.5068 - val_accuracy: 0.1159\n",
            "Epoch 91/100\n",
            "782/782 [==============================] - 6s 7ms/step - loss: 4.5001 - accuracy: 0.1229 - val_loss: 4.5057 - val_accuracy: 0.1163\n",
            "Epoch 92/100\n",
            "782/782 [==============================] - 6s 7ms/step - loss: 4.4997 - accuracy: 0.1235 - val_loss: 4.5046 - val_accuracy: 0.1193\n",
            "Epoch 93/100\n",
            "782/782 [==============================] - 6s 7ms/step - loss: 4.4986 - accuracy: 0.1243 - val_loss: 4.5049 - val_accuracy: 0.1185\n",
            "Epoch 94/100\n",
            "782/782 [==============================] - 6s 7ms/step - loss: 4.4984 - accuracy: 0.1248 - val_loss: 4.5054 - val_accuracy: 0.1170\n",
            "Epoch 95/100\n",
            "782/782 [==============================] - 6s 7ms/step - loss: 4.4976 - accuracy: 0.1251 - val_loss: 4.5030 - val_accuracy: 0.1191\n",
            "Epoch 96/100\n",
            "782/782 [==============================] - 6s 7ms/step - loss: 4.4960 - accuracy: 0.1272 - val_loss: 4.5026 - val_accuracy: 0.1198\n",
            "Epoch 97/100\n",
            "782/782 [==============================] - 6s 7ms/step - loss: 4.4960 - accuracy: 0.1273 - val_loss: 4.5021 - val_accuracy: 0.1201\n",
            "Epoch 98/100\n",
            "782/782 [==============================] - 6s 7ms/step - loss: 4.4959 - accuracy: 0.1271 - val_loss: 4.5045 - val_accuracy: 0.1174\n",
            "Epoch 99/100\n",
            "782/782 [==============================] - 6s 7ms/step - loss: 4.4947 - accuracy: 0.1280 - val_loss: 4.5022 - val_accuracy: 0.1206\n",
            "Epoch 100/100\n",
            "782/782 [==============================] - 6s 7ms/step - loss: 4.4946 - accuracy: 0.1280 - val_loss: 4.5044 - val_accuracy: 0.1181\n"
          ],
          "name": "stdout"
        }
      ]
    },
    {
      "cell_type": "code",
      "metadata": {
        "id": "oCVYlXo1tnZ9",
        "colab_type": "code",
        "colab": {
          "base_uri": "https://localhost:8080/",
          "height": 545
        },
        "outputId": "6184e10f-3a23-4620-b41e-15e28394d022"
      },
      "source": [
        "import matplotlib.pyplot as plt\n",
        "acc = history_sgd.history['accuracy']\n",
        "val_acc = history_sgd.history['val_accuracy']\n",
        "loss = history_sgd.history['loss']\n",
        "val_loss = history_sgd.history['val_loss']\n",
        "\n",
        "epochs = range(len(acc))\n",
        "\n",
        "plt.plot(epochs, acc, 'bo', label='Training accuracy')\n",
        "plt.plot(epochs, val_acc, 'b', label='Validation accuracy')\n",
        "plt.title('Training and validation accuracy')\n",
        "plt.legend()\n",
        "\n",
        "plt.figure()\n",
        "\n",
        "plt.plot(epochs, loss, 'bo', label='Training Loss')\n",
        "plt.plot(epochs, val_loss, 'b', label='Validation Loss')\n",
        "plt.title('Training and validation loss')\n",
        "plt.legend()\n",
        "\n",
        "plt.show()"
      ],
      "execution_count": 6,
      "outputs": [
        {
          "output_type": "display_data",
          "data": {
            "image/png": "[encoded data removed]",
            "text/plain": [
              "<Figure size 432x288 with 1 Axes>"
            ]
          },
          "metadata": {
            "tags": [],
            "needs_background": "light"
          }
        },
        {
          "output_type": "display_data",
          "data": {
            "image/png": "[encoded data removed]",
            "text/plain": [
              "<Figure size 432x288 with 1 Axes>"
            ]
          },
          "metadata": {
            "tags": [],
            "needs_background": "light"
          }
        }
      ]
    }
  ]
}