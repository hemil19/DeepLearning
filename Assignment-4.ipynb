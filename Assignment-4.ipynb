{
  "nbformat": 4,
  "nbformat_minor": 0,
  "metadata": {
    "colab": {
      "name": "Assignment-4.ipynb",
      "provenance": [],
      "collapsed_sections": [
        "Q-vXOmMRnp_Z",
        "h-kv2w3fpF0F",
        "0qncqjnoqvXz"
      ],
      "authorship_tag": "ABX9TyPbT9NolQFbCzSGUo/E0pjs",
      "include_colab_link": true
    },
    "kernelspec": {
      "name": "python3",
      "display_name": "Python 3"
    }
  },
  "cells": [
    {
      "cell_type": "markdown",
      "metadata": {
        "id": "view-in-github",
        "colab_type": "text"
      },
      "source": [
        "<a href=\"https://colab.research.google.com/github/hemil19/DeepLearning/blob/master/Assignment-4.ipynb\" target=\"_parent\"><img src=\"https://colab.research.google.com/assets/colab-badge.svg\" alt=\"Open In Colab\"/></a>"
      ]
    },
    {
      "cell_type": "code",
      "metadata": {
        "id": "hGwWfPRca-nn",
        "colab_type": "code",
        "colab": {}
      },
      "source": [
        "import tensorflow as tf\n",
        "from tensorflow.keras.datasets import cifar100\n",
        "from tensorflow.keras.layers import Dense,Dropout,Conv2D,Flatten,Activation\n",
        "from tensorflow.keras.models import Sequential\n",
        "from tensorflow.keras.utils import to_categorical"
      ],
      "execution_count": 17,
      "outputs": []
    },
    {
      "cell_type": "markdown",
      "metadata": {
        "id": "Q-vXOmMRnp_Z",
        "colab_type": "text"
      },
      "source": [
        "## Base Model for cifar100"
      ]
    },
    {
      "cell_type": "code",
      "metadata": {
        "id": "Gtn9t8lebZBM",
        "colab_type": "code",
        "colab": {}
      },
      "source": [
        "(X_train,y_train),(X_test,y_test)=cifar100.load_data()\n",
        "\n",
        "X_train=X_train.reshape((-1,32*32*3))\n",
        "X_test=X_test.reshape((-1,32*32*3))\n",
        "\n",
        "X_train=X_train.astype('float32')\n",
        "X_test=X_test.astype('float32')\n",
        "\n",
        "#preprocess\n",
        "X_train=X_train/255.0\n",
        "X_test=X_test/255.0\n",
        "\n",
        "y_train=to_categorical(y_train)\n",
        "y_test=to_categorical(y_test)"
      ],
      "execution_count": 20,
      "outputs": []
    },
    {
      "cell_type": "code",
      "metadata": {
        "id": "BGtMRGZaeUdB",
        "colab_type": "code",
        "colab": {
          "base_uri": "https://localhost:8080/",
          "height": 51
        },
        "outputId": "cde56268-6050-4107-d115-dadf6f99e2e6"
      },
      "source": [
        "print(X_train.shape,y_train.shape)\n",
        "print(X_test.shape,y_test.shape)"
      ],
      "execution_count": 22,
      "outputs": [
        {
          "output_type": "stream",
          "text": [
            "(50000, 3072) (50000, 100)\n",
            "(10000, 3072) (10000, 100)\n"
          ],
          "name": "stdout"
        }
      ]
    },
    {
      "cell_type": "code",
      "metadata": {
        "id": "8lNUWBxGeEoc",
        "colab_type": "code",
        "colab": {
          "base_uri": "https://localhost:8080/",
          "height": 323
        },
        "outputId": "769e24fb-c1bc-4a2d-8279-487ebea3585e"
      },
      "source": [
        "##build model\n",
        "initializer=tf.keras.initializers.glorot_normal()\n",
        "\n",
        "model=Sequential()\n",
        "model.add(Dense(100,input_dim=3072,activation='relu',kernel_initializer=initializer,bias_initializer=initializer))\n",
        "model.add(Dense(256,activation='relu'))\n",
        "model.add(Dense(256,activation='relu'))\n",
        "model.add(Dense(124,activation='relu'))\n",
        "model.add(Dense(100,activation='softmax'))\n",
        "model.summary()"
      ],
      "execution_count": 23,
      "outputs": [
        {
          "output_type": "stream",
          "text": [
            "Model: \"sequential_3\"\n",
            "_________________________________________________________________\n",
            "Layer (type)                 Output Shape              Param #   \n",
            "=================================================================\n",
            "dense_7 (Dense)              (None, 100)               307300    \n",
            "_________________________________________________________________\n",
            "dense_8 (Dense)              (None, 256)               25856     \n",
            "_________________________________________________________________\n",
            "dense_9 (Dense)              (None, 256)               65792     \n",
            "_________________________________________________________________\n",
            "dense_10 (Dense)             (None, 124)               31868     \n",
            "_________________________________________________________________\n",
            "dense_11 (Dense)             (None, 100)               12500     \n",
            "=================================================================\n",
            "Total params: 443,316\n",
            "Trainable params: 443,316\n",
            "Non-trainable params: 0\n",
            "_________________________________________________________________\n"
          ],
          "name": "stdout"
        }
      ]
    },
    {
      "cell_type": "code",
      "metadata": {
        "id": "P8dyvqUqfOc_",
        "colab_type": "code",
        "colab": {}
      },
      "source": [
        "##compile model\n",
        "model.compile(loss='categorical_crossentropy',\n",
        "              metrics=['accuracy'],\n",
        "              optimizer='sgd')"
      ],
      "execution_count": 24,
      "outputs": []
    },
    {
      "cell_type": "code",
      "metadata": {
        "id": "A6eOwkM7fdJh",
        "colab_type": "code",
        "colab": {
          "base_uri": "https://localhost:8080/",
          "height": 717
        },
        "outputId": "b2ce1313-cf9f-46aa-e1be-033bcc9c057e"
      },
      "source": [
        "es=tf.keras.callbacks.EarlyStopping(patience=3,monitor='val_loss',restore_best_weights=True)\n",
        "#mc=tf.keras.callbacks.ModelCheckpoint(filepath='cifar10-{epoch:02d}.hdf5',monitor='val_acc', verbose=1,save_best_only=True)\n",
        "history=model.fit(X_train,y_train,epochs=20,validation_split=0.1,callbacks=[es])"
      ],
      "execution_count": 25,
      "outputs": [
        {
          "output_type": "stream",
          "text": [
            "Epoch 1/20\n",
            "1407/1407 [==============================] - 6s 4ms/step - loss: 4.4763 - accuracy: 0.0322 - val_loss: 4.2666 - val_accuracy: 0.0534\n",
            "Epoch 2/20\n",
            "1407/1407 [==============================] - 6s 4ms/step - loss: 4.0630 - accuracy: 0.0774 - val_loss: 4.0203 - val_accuracy: 0.0808\n",
            "Epoch 3/20\n",
            "1407/1407 [==============================] - 6s 4ms/step - loss: 3.8611 - accuracy: 0.1082 - val_loss: 3.9047 - val_accuracy: 0.1086\n",
            "Epoch 4/20\n",
            "1407/1407 [==============================] - 6s 4ms/step - loss: 3.7352 - accuracy: 0.1311 - val_loss: 3.7863 - val_accuracy: 0.1246\n",
            "Epoch 5/20\n",
            "1407/1407 [==============================] - 6s 5ms/step - loss: 3.6496 - accuracy: 0.1466 - val_loss: 3.7467 - val_accuracy: 0.1280\n",
            "Epoch 6/20\n",
            "1407/1407 [==============================] - 6s 5ms/step - loss: 3.5733 - accuracy: 0.1600 - val_loss: 3.6339 - val_accuracy: 0.1472\n",
            "Epoch 7/20\n",
            "1407/1407 [==============================] - 6s 5ms/step - loss: 3.5093 - accuracy: 0.1739 - val_loss: 3.6596 - val_accuracy: 0.1480\n",
            "Epoch 8/20\n",
            "1407/1407 [==============================] - 6s 4ms/step - loss: 3.4537 - accuracy: 0.1795 - val_loss: 3.5042 - val_accuracy: 0.1740\n",
            "Epoch 9/20\n",
            "1407/1407 [==============================] - 6s 5ms/step - loss: 3.4004 - accuracy: 0.1881 - val_loss: 3.6195 - val_accuracy: 0.1554\n",
            "Epoch 10/20\n",
            "1407/1407 [==============================] - 7s 5ms/step - loss: 3.3499 - accuracy: 0.1987 - val_loss: 3.5654 - val_accuracy: 0.1582\n",
            "Epoch 11/20\n",
            "1407/1407 [==============================] - 6s 5ms/step - loss: 3.3081 - accuracy: 0.2052 - val_loss: 3.4297 - val_accuracy: 0.1802\n",
            "Epoch 12/20\n",
            "1407/1407 [==============================] - 7s 5ms/step - loss: 3.2626 - accuracy: 0.2147 - val_loss: 3.4399 - val_accuracy: 0.1832\n",
            "Epoch 13/20\n",
            "1407/1407 [==============================] - 7s 5ms/step - loss: 3.2248 - accuracy: 0.2219 - val_loss: 3.4154 - val_accuracy: 0.1854\n",
            "Epoch 14/20\n",
            "1407/1407 [==============================] - 7s 5ms/step - loss: 3.1883 - accuracy: 0.2287 - val_loss: 3.4360 - val_accuracy: 0.1832\n",
            "Epoch 15/20\n",
            "1407/1407 [==============================] - 7s 5ms/step - loss: 3.1530 - accuracy: 0.2332 - val_loss: 3.3593 - val_accuracy: 0.1978\n",
            "Epoch 16/20\n",
            "1407/1407 [==============================] - 7s 5ms/step - loss: 3.1195 - accuracy: 0.2402 - val_loss: 3.7539 - val_accuracy: 0.1548\n",
            "Epoch 17/20\n",
            "1407/1407 [==============================] - 7s 5ms/step - loss: 3.0894 - accuracy: 0.2448 - val_loss: 3.3174 - val_accuracy: 0.1996\n",
            "Epoch 18/20\n",
            "1407/1407 [==============================] - 7s 5ms/step - loss: 3.0551 - accuracy: 0.2501 - val_loss: 3.2955 - val_accuracy: 0.2058\n",
            "Epoch 19/20\n",
            "1407/1407 [==============================] - 7s 5ms/step - loss: 3.0264 - accuracy: 0.2542 - val_loss: 3.3513 - val_accuracy: 0.1972\n",
            "Epoch 20/20\n",
            "1407/1407 [==============================] - 8s 6ms/step - loss: 2.9952 - accuracy: 0.2618 - val_loss: 3.2806 - val_accuracy: 0.2162\n"
          ],
          "name": "stdout"
        }
      ]
    },
    {
      "cell_type": "code",
      "metadata": {
        "id": "y90NGXLAnWNV",
        "colab_type": "code",
        "colab": {
          "base_uri": "https://localhost:8080/",
          "height": 545
        },
        "outputId": "2ba5d889-c3c5-4fcc-b2ce-06160152fd7c"
      },
      "source": [
        "import matplotlib.pyplot as plt\n",
        "acc = history.history['accuracy']\n",
        "val_acc = history.history['val_accuracy']\n",
        "loss = history.history['loss']\n",
        "val_loss = history.history['val_loss']\n",
        "\n",
        "epochs = range(len(acc))\n",
        "\n",
        "plt.plot(epochs, acc, 'bo', label='Training accuracy')\n",
        "plt.plot(epochs, val_acc, 'b', label='Validation accuracy')\n",
        "plt.title('Training and validation accuracy')\n",
        "\n",
        "plt.figure()\n",
        "\n",
        "plt.plot(epochs, loss, 'bo', label='Training Loss')\n",
        "plt.plot(epochs, val_loss, 'b', label='Validation Loss')\n",
        "plt.title('Training and validation loss')\n",
        "plt.legend()\n",
        "\n",
        "plt.show()"
      ],
      "execution_count": 26,
      "outputs": [
        {
          "output_type": "display_data",
          "data": {
            "image/png": "[encoded data removed]",
            "text/plain": [
              "<Figure size 432x288 with 1 Axes>"
            ]
          },
          "metadata": {
            "tags": [],
            "needs_background": "light"
          }
        },
        {
          "output_type": "display_data",
          "data": {
            "image/png": "[encoded data removed]",
            "text/plain": [
              "<Figure size 432x288 with 1 Axes>"
            ]
          },
          "metadata": {
            "tags": [],
            "needs_background": "light"
          }
        }
      ]
    },
    {
      "cell_type": "markdown",
      "metadata": {
        "id": "h-kv2w3fpF0F",
        "colab_type": "text"
      },
      "source": [
        "## Base Model for mnist"
      ]
    },
    {
      "cell_type": "code",
      "metadata": {
        "id": "uq2LV7O7nkTl",
        "colab_type": "code",
        "colab": {}
      },
      "source": [
        "from tensorflow.keras.datasets import mnist"
      ],
      "execution_count": 27,
      "outputs": []
    },
    {
      "cell_type": "code",
      "metadata": {
        "id": "IAMAKqw1pX2Q",
        "colab_type": "code",
        "colab": {}
      },
      "source": [
        "(X_train,y_train),(X_test,y_test)=mnist.load_data()\n",
        "\n",
        "X_train=X_train.reshape((-1,28*28))\n",
        "X_test=X_test.reshape((-1,28*28))\n",
        "\n",
        "X_train=X_train.astype('float32')\n",
        "X_test=X_test.astype('float32')\n",
        "\n",
        "#preprocess\n",
        "X_train=X_train/255.0\n",
        "X_test=X_test/255.0\n",
        "\n",
        "y_train=to_categorical(y_train)\n",
        "y_test=to_categorical(y_test)"
      ],
      "execution_count": 33,
      "outputs": []
    },
    {
      "cell_type": "code",
      "metadata": {
        "id": "duxvb-3mpi-Z",
        "colab_type": "code",
        "colab": {
          "base_uri": "https://localhost:8080/",
          "height": 34
        },
        "outputId": "107a627d-3d6a-4e32-e082-db74586e131d"
      },
      "source": [
        "X_train.shape,y_train.shape"
      ],
      "execution_count": 35,
      "outputs": [
        {
          "output_type": "execute_result",
          "data": {
            "text/plain": [
              "((60000, 784), (60000, 10))"
            ]
          },
          "metadata": {
            "tags": []
          },
          "execution_count": 35
        }
      ]
    },
    {
      "cell_type": "code",
      "metadata": {
        "id": "Qx-wPaa7p2XK",
        "colab_type": "code",
        "colab": {
          "base_uri": "https://localhost:8080/",
          "height": 323
        },
        "outputId": "95b9a2db-0efa-4d42-915a-33356dd9e16e"
      },
      "source": [
        "##build model\n",
        "initializer=tf.keras.initializers.glorot_normal()\n",
        "\n",
        "model=Sequential()\n",
        "model.add(Dense(100,input_dim=784,activation='relu',kernel_initializer=initializer,bias_initializer=initializer))\n",
        "model.add(Dense(256,activation='relu'))\n",
        "model.add(Dense(256,activation='relu'))\n",
        "model.add(Dense(124,activation='relu'))\n",
        "model.add(Dense(10,activation='softmax'))\n",
        "model.summary()"
      ],
      "execution_count": 39,
      "outputs": [
        {
          "output_type": "stream",
          "text": [
            "Model: \"sequential_5\"\n",
            "_________________________________________________________________\n",
            "Layer (type)                 Output Shape              Param #   \n",
            "=================================================================\n",
            "dense_17 (Dense)             (None, 100)               78500     \n",
            "_________________________________________________________________\n",
            "dense_18 (Dense)             (None, 256)               25856     \n",
            "_________________________________________________________________\n",
            "dense_19 (Dense)             (None, 256)               65792     \n",
            "_________________________________________________________________\n",
            "dense_20 (Dense)             (None, 124)               31868     \n",
            "_________________________________________________________________\n",
            "dense_21 (Dense)             (None, 10)                1250      \n",
            "=================================================================\n",
            "Total params: 203,266\n",
            "Trainable params: 203,266\n",
            "Non-trainable params: 0\n",
            "_________________________________________________________________\n"
          ],
          "name": "stdout"
        }
      ]
    },
    {
      "cell_type": "code",
      "metadata": {
        "id": "WFn5QamSqET3",
        "colab_type": "code",
        "colab": {}
      },
      "source": [
        "##compile model\n",
        "model.compile(loss='categorical_crossentropy',\n",
        "              metrics=['accuracy'],\n",
        "              optimizer='sgd')"
      ],
      "execution_count": 40,
      "outputs": []
    },
    {
      "cell_type": "code",
      "metadata": {
        "id": "-SYdd45GqIIc",
        "colab_type": "code",
        "colab": {
          "base_uri": "https://localhost:8080/",
          "height": 581
        },
        "outputId": "dccdd1f5-a065-411d-a22a-ec302df29572"
      },
      "source": [
        "es=tf.keras.callbacks.EarlyStopping(patience=3,monitor='val_loss',restore_best_weights=True)\n",
        "#mc=tf.keras.callbacks.ModelCheckpoint(filepath='cifar10-{epoch:02d}.hdf5',monitor='val_acc', verbose=1,save_best_only=True)\n",
        "history=model.fit(X_train,y_train,epochs=20,validation_split=0.1,callbacks=[es])"
      ],
      "execution_count": 41,
      "outputs": [
        {
          "output_type": "stream",
          "text": [
            "Epoch 1/20\n",
            "1688/1688 [==============================] - 5s 3ms/step - loss: 0.7464 - accuracy: 0.7968 - val_loss: 0.2621 - val_accuracy: 0.9270\n",
            "Epoch 2/20\n",
            "1688/1688 [==============================] - 5s 3ms/step - loss: 0.2829 - accuracy: 0.9162 - val_loss: 0.1914 - val_accuracy: 0.9465\n",
            "Epoch 3/20\n",
            "1688/1688 [==============================] - 5s 3ms/step - loss: 0.2221 - accuracy: 0.9335 - val_loss: 0.1613 - val_accuracy: 0.9552\n",
            "Epoch 4/20\n",
            "1688/1688 [==============================] - 5s 3ms/step - loss: 0.1847 - accuracy: 0.9451 - val_loss: 0.1482 - val_accuracy: 0.9588\n",
            "Epoch 5/20\n",
            "1688/1688 [==============================] - 5s 3ms/step - loss: 0.1566 - accuracy: 0.9534 - val_loss: 0.1335 - val_accuracy: 0.9628\n",
            "Epoch 6/20\n",
            "1688/1688 [==============================] - 5s 3ms/step - loss: 0.1359 - accuracy: 0.9594 - val_loss: 0.1271 - val_accuracy: 0.9640\n",
            "Epoch 7/20\n",
            "1688/1688 [==============================] - 5s 3ms/step - loss: 0.1198 - accuracy: 0.9644 - val_loss: 0.1058 - val_accuracy: 0.9723\n",
            "Epoch 8/20\n",
            "1688/1688 [==============================] - 5s 3ms/step - loss: 0.1064 - accuracy: 0.9689 - val_loss: 0.0968 - val_accuracy: 0.9742\n",
            "Epoch 9/20\n",
            "1688/1688 [==============================] - 5s 3ms/step - loss: 0.0951 - accuracy: 0.9724 - val_loss: 0.0975 - val_accuracy: 0.9720\n",
            "Epoch 10/20\n",
            "1688/1688 [==============================] - 5s 3ms/step - loss: 0.0853 - accuracy: 0.9743 - val_loss: 0.1173 - val_accuracy: 0.9655\n",
            "Epoch 11/20\n",
            "1688/1688 [==============================] - 5s 3ms/step - loss: 0.0775 - accuracy: 0.9771 - val_loss: 0.0907 - val_accuracy: 0.9743\n",
            "Epoch 12/20\n",
            "1688/1688 [==============================] - 5s 3ms/step - loss: 0.0714 - accuracy: 0.9789 - val_loss: 0.0964 - val_accuracy: 0.9715\n",
            "Epoch 13/20\n",
            "1688/1688 [==============================] - 5s 3ms/step - loss: 0.0642 - accuracy: 0.9811 - val_loss: 0.0831 - val_accuracy: 0.9772\n",
            "Epoch 14/20\n",
            "1688/1688 [==============================] - 5s 3ms/step - loss: 0.0580 - accuracy: 0.9833 - val_loss: 0.0854 - val_accuracy: 0.9765\n",
            "Epoch 15/20\n",
            "1688/1688 [==============================] - 5s 3ms/step - loss: 0.0539 - accuracy: 0.9842 - val_loss: 0.0883 - val_accuracy: 0.9763\n",
            "Epoch 16/20\n",
            "1688/1688 [==============================] - 5s 3ms/step - loss: 0.0492 - accuracy: 0.9855 - val_loss: 0.0844 - val_accuracy: 0.9760\n"
          ],
          "name": "stdout"
        }
      ]
    },
    {
      "cell_type": "code",
      "metadata": {
        "id": "UI5un4iiqMG2",
        "colab_type": "code",
        "colab": {
          "base_uri": "https://localhost:8080/",
          "height": 51
        },
        "outputId": "cc0d0204-db03-409d-b2e3-8d8c1c7b65a2"
      },
      "source": [
        "model.evaluate(X_test,y_test)"
      ],
      "execution_count": 42,
      "outputs": [
        {
          "output_type": "stream",
          "text": [
            "313/313 [==============================] - 0s 2ms/step - loss: 0.0894 - accuracy: 0.9723\n"
          ],
          "name": "stdout"
        },
        {
          "output_type": "execute_result",
          "data": {
            "text/plain": [
              "[0.08939757198095322, 0.9722999930381775]"
            ]
          },
          "metadata": {
            "tags": []
          },
          "execution_count": 42
        }
      ]
    },
    {
      "cell_type": "code",
      "metadata": {
        "id": "K0lXU6QkqrZl",
        "colab_type": "code",
        "colab": {
          "base_uri": "https://localhost:8080/",
          "height": 545
        },
        "outputId": "4d92c546-b0c3-4075-c791-8ebe6e6cdc0b"
      },
      "source": [
        "import matplotlib.pyplot as plt\n",
        "acc = history.history['accuracy']\n",
        "val_acc = history.history['val_accuracy']\n",
        "loss = history.history['loss']\n",
        "val_loss = history.history['val_loss']\n",
        "\n",
        "epochs = range(len(acc))\n",
        "\n",
        "plt.plot(epochs, acc, 'bo', label='Training accuracy')\n",
        "plt.plot(epochs, val_acc, 'b', label='Validation accuracy')\n",
        "plt.title('Training and validation accuracy')\n",
        "\n",
        "plt.figure()\n",
        "\n",
        "plt.plot(epochs, loss, 'bo', label='Training Loss')\n",
        "plt.plot(epochs, val_loss, 'b', label='Validation Loss')\n",
        "plt.title('Training and validation loss')\n",
        "plt.legend()\n",
        "\n",
        "plt.show()"
      ],
      "execution_count": 43,
      "outputs": [
        {
          "output_type": "display_data",
          "data": {
            "image/png": "[encoded data removed]",
            "text/plain": [
              "<Figure size 432x288 with 1 Axes>"
            ]
          },
          "metadata": {
            "tags": [],
            "needs_background": "light"
          }
        },
        {
          "output_type": "display_data",
          "data": {
            "image/png": "[encoded data removed]",
            "text/plain": [
              "<Figure size 432x288 with 1 Axes>"
            ]
          },
          "metadata": {
            "tags": [],
            "needs_background": "light"
          }
        }
      ]
    },
    {
      "cell_type": "markdown",
      "metadata": {
        "id": "0qncqjnoqvXz",
        "colab_type": "text"
      },
      "source": [
        "# Base Model for fashion-mnist"
      ]
    },
    {
      "cell_type": "code",
      "metadata": {
        "id": "P-MoPfjHqsoI",
        "colab_type": "code",
        "colab": {}
      },
      "source": [
        "from tensorflow.keras.datasets import fashion_mnist"
      ],
      "execution_count": 44,
      "outputs": []
    },
    {
      "cell_type": "code",
      "metadata": {
        "id": "COLKjvL2q6bG",
        "colab_type": "code",
        "colab": {}
      },
      "source": [
        "(X_train,y_train),(X_test,y_test)=mnist.load_data()\n",
        "\n",
        "X_train=X_train.reshape((-1,28*28))\n",
        "X_test=X_test.reshape((-1,28*28))\n",
        "\n",
        "X_train=X_train.astype('float32')\n",
        "X_test=X_test.astype('float32')\n",
        "\n",
        "#preprocess\n",
        "X_train=X_train/255.0\n",
        "X_test=X_test/255.0\n",
        "\n",
        "y_train=to_categorical(y_train)\n",
        "y_test=to_categorical(y_test)"
      ],
      "execution_count": 47,
      "outputs": []
    },
    {
      "cell_type": "code",
      "metadata": {
        "id": "JrqW9T29rCa4",
        "colab_type": "code",
        "colab": {
          "base_uri": "https://localhost:8080/",
          "height": 323
        },
        "outputId": "e3e7771e-3f45-4cd2-ab7c-36ff3383f6af"
      },
      "source": [
        "##build model\n",
        "initializer=tf.keras.initializers.glorot_normal()\n",
        "\n",
        "model=Sequential()\n",
        "model.add(Dense(100,input_dim=784,activation='relu',kernel_initializer=initializer,bias_initializer=initializer))\n",
        "model.add(Dense(256,activation='relu'))\n",
        "model.add(Dense(256,activation='relu'))\n",
        "model.add(Dense(124,activation='relu'))\n",
        "model.add(Dense(10,activation='softmax'))\n",
        "model.summary()"
      ],
      "execution_count": 48,
      "outputs": [
        {
          "output_type": "stream",
          "text": [
            "Model: \"sequential_6\"\n",
            "_________________________________________________________________\n",
            "Layer (type)                 Output Shape              Param #   \n",
            "=================================================================\n",
            "dense_22 (Dense)             (None, 100)               78500     \n",
            "_________________________________________________________________\n",
            "dense_23 (Dense)             (None, 256)               25856     \n",
            "_________________________________________________________________\n",
            "dense_24 (Dense)             (None, 256)               65792     \n",
            "_________________________________________________________________\n",
            "dense_25 (Dense)             (None, 124)               31868     \n",
            "_________________________________________________________________\n",
            "dense_26 (Dense)             (None, 10)                1250      \n",
            "=================================================================\n",
            "Total params: 203,266\n",
            "Trainable params: 203,266\n",
            "Non-trainable params: 0\n",
            "_________________________________________________________________\n"
          ],
          "name": "stdout"
        }
      ]
    },
    {
      "cell_type": "code",
      "metadata": {
        "id": "gKgZKMpLrMB2",
        "colab_type": "code",
        "colab": {}
      },
      "source": [
        "##compile model\n",
        "model.compile(loss='categorical_crossentropy',\n",
        "              metrics=['accuracy'],\n",
        "              optimizer='sgd')"
      ],
      "execution_count": 49,
      "outputs": []
    },
    {
      "cell_type": "code",
      "metadata": {
        "id": "Sv0PBOpTrOpp",
        "colab_type": "code",
        "colab": {
          "base_uri": "https://localhost:8080/",
          "height": 649
        },
        "outputId": "063e3739-7a79-4479-b592-11fa061ed6e8"
      },
      "source": [
        "es=tf.keras.callbacks.EarlyStopping(patience=3,monitor='val_loss',restore_best_weights=True)\n",
        "#mc=tf.keras.callbacks.ModelCheckpoint(filepath='cifar10-{epoch:02d}.hdf5',monitor='val_acc', verbose=1,save_best_only=True)\n",
        "history=model.fit(X_train,y_train,epochs=20,validation_split=0.1,callbacks=[es])"
      ],
      "execution_count": 50,
      "outputs": [
        {
          "output_type": "stream",
          "text": [
            "Epoch 1/20\n",
            "1688/1688 [==============================] - 5s 3ms/step - loss: 0.8351 - accuracy: 0.7591 - val_loss: 0.2756 - val_accuracy: 0.9178\n",
            "Epoch 2/20\n",
            "1688/1688 [==============================] - 4s 3ms/step - loss: 0.2926 - accuracy: 0.9134 - val_loss: 0.1955 - val_accuracy: 0.9440\n",
            "Epoch 3/20\n",
            "1688/1688 [==============================] - 4s 3ms/step - loss: 0.2266 - accuracy: 0.9331 - val_loss: 0.1635 - val_accuracy: 0.9527\n",
            "Epoch 4/20\n",
            "1688/1688 [==============================] - 4s 3ms/step - loss: 0.1870 - accuracy: 0.9443 - val_loss: 0.1496 - val_accuracy: 0.9562\n",
            "Epoch 5/20\n",
            "1688/1688 [==============================] - 4s 3ms/step - loss: 0.1574 - accuracy: 0.9529 - val_loss: 0.1260 - val_accuracy: 0.9625\n",
            "Epoch 6/20\n",
            "1688/1688 [==============================] - 4s 3ms/step - loss: 0.1356 - accuracy: 0.9595 - val_loss: 0.1111 - val_accuracy: 0.9672\n",
            "Epoch 7/20\n",
            "1688/1688 [==============================] - 4s 3ms/step - loss: 0.1189 - accuracy: 0.9642 - val_loss: 0.1221 - val_accuracy: 0.9667\n",
            "Epoch 8/20\n",
            "1688/1688 [==============================] - 4s 3ms/step - loss: 0.1051 - accuracy: 0.9686 - val_loss: 0.1161 - val_accuracy: 0.9658\n",
            "Epoch 9/20\n",
            "1688/1688 [==============================] - 4s 3ms/step - loss: 0.0931 - accuracy: 0.9721 - val_loss: 0.1077 - val_accuracy: 0.9685\n",
            "Epoch 10/20\n",
            "1688/1688 [==============================] - 4s 3ms/step - loss: 0.0842 - accuracy: 0.9742 - val_loss: 0.0870 - val_accuracy: 0.9737\n",
            "Epoch 11/20\n",
            "1688/1688 [==============================] - 4s 3ms/step - loss: 0.0760 - accuracy: 0.9776 - val_loss: 0.0887 - val_accuracy: 0.9732\n",
            "Epoch 12/20\n",
            "1688/1688 [==============================] - 4s 3ms/step - loss: 0.0686 - accuracy: 0.9795 - val_loss: 0.0899 - val_accuracy: 0.9750\n",
            "Epoch 13/20\n",
            "1688/1688 [==============================] - 4s 3ms/step - loss: 0.0623 - accuracy: 0.9814 - val_loss: 0.0851 - val_accuracy: 0.9748\n",
            "Epoch 14/20\n",
            "1688/1688 [==============================] - 4s 3ms/step - loss: 0.0573 - accuracy: 0.9832 - val_loss: 0.0856 - val_accuracy: 0.9768\n",
            "Epoch 15/20\n",
            "1688/1688 [==============================] - 4s 3ms/step - loss: 0.0524 - accuracy: 0.9847 - val_loss: 0.0846 - val_accuracy: 0.9763\n",
            "Epoch 16/20\n",
            "1688/1688 [==============================] - 4s 3ms/step - loss: 0.0481 - accuracy: 0.9860 - val_loss: 0.0847 - val_accuracy: 0.9777\n",
            "Epoch 17/20\n",
            "1688/1688 [==============================] - 4s 3ms/step - loss: 0.0439 - accuracy: 0.9874 - val_loss: 0.0924 - val_accuracy: 0.9755\n",
            "Epoch 18/20\n",
            "1688/1688 [==============================] - 4s 3ms/step - loss: 0.0405 - accuracy: 0.9883 - val_loss: 0.0921 - val_accuracy: 0.9758\n"
          ],
          "name": "stdout"
        }
      ]
    },
    {
      "cell_type": "code",
      "metadata": {
        "id": "eXfmqtnDrTzV",
        "colab_type": "code",
        "colab": {
          "base_uri": "https://localhost:8080/",
          "height": 51
        },
        "outputId": "f31fb015-2e52-4ca2-8477-d15589053387"
      },
      "source": [
        "model.evaluate(X_test,y_test)"
      ],
      "execution_count": 51,
      "outputs": [
        {
          "output_type": "stream",
          "text": [
            "313/313 [==============================] - 0s 1ms/step - loss: 0.0905 - accuracy: 0.9715\n"
          ],
          "name": "stdout"
        },
        {
          "output_type": "execute_result",
          "data": {
            "text/plain": [
              "[0.09052832424640656, 0.9714999794960022]"
            ]
          },
          "metadata": {
            "tags": []
          },
          "execution_count": 51
        }
      ]
    },
    {
      "cell_type": "code",
      "metadata": {
        "id": "IsFV5lNfrRcy",
        "colab_type": "code",
        "colab": {
          "base_uri": "https://localhost:8080/",
          "height": 545
        },
        "outputId": "7eb5ed4c-77c6-4b7e-d76e-7dfc10a11362"
      },
      "source": [
        "import matplotlib.pyplot as plt\n",
        "acc = history.history['accuracy']\n",
        "val_acc = history.history['val_accuracy']\n",
        "loss = history.history['loss']\n",
        "val_loss = history.history['val_loss']\n",
        "\n",
        "epochs = range(len(acc))\n",
        "\n",
        "plt.plot(epochs, acc, 'bo', label='Training accuracy')\n",
        "plt.plot(epochs, val_acc, 'b', label='Validation accuracy')\n",
        "plt.title('Training and validation accuracy')\n",
        "\n",
        "plt.figure()\n",
        "\n",
        "plt.plot(epochs, loss, 'bo', label='Training Loss')\n",
        "plt.plot(epochs, val_loss, 'b', label='Validation Loss')\n",
        "plt.title('Training and validation loss')\n",
        "plt.legend()\n",
        "\n",
        "plt.show()"
      ],
      "execution_count": 52,
      "outputs": [
        {
          "output_type": "display_data",
          "data": {
            "image/png": "[encoded data removed]",
            "text/plain": [
              "<Figure size 432x288 with 1 Axes>"
            ]
          },
          "metadata": {
            "tags": [],
            "needs_background": "light"
          }
        },
        {
          "output_type": "display_data",
          "data": {
            "image/png": "[encoded data removed]",
            "text/plain": [
              "<Figure size 432x288 with 1 Axes>"
            ]
          },
          "metadata": {
            "tags": [],
            "needs_background": "light"
          }
        }
      ]
    }
  ]
}